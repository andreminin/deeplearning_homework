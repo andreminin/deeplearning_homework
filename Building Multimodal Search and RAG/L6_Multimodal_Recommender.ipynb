{
 "cells": [
  {
   "cell_type": "markdown",
   "id": "def4b0a5-3417-4ab0-91f7-c54cd9d2af28",
   "metadata": {},
   "source": [
    "# L6: Multimodal Recommender System"
   ]
  },
  {
   "cell_type": "markdown",
   "id": "052891e0",
   "metadata": {},
   "source": [
    "<p style=\"background-color:#fff6e4; padding:15px; border-width:3px; border-color:#f5ecda; border-style:solid; border-radius:6px\"> ⏳ <b>Note <code>(Kernel Starting)</code>:</b> This notebook takes about 30 seconds to be ready to use. You may start and watch the video while you wait.</p>"
   ]
  },
  {
   "cell_type": "markdown",
   "id": "8210fd02",
   "metadata": {},
   "source": [
    "* In this classroom, the libraries have been already installed for you.\n",
    "* If you would like to run this code on your own machine, you need to install the following:\n",
    "```\n",
    "    !pip install -U weaviate-client\n",
    "    !pip install google-generativeai\n",
    "    !pip install openai\n",
    "```"
   ]
  },
  {
   "cell_type": "code",
   "execution_count": 1,
   "id": "37c1e227-8318-47c0-b13c-c93112619c9c",
   "metadata": {
    "height": 47
   },
   "outputs": [],
   "source": [
    "import warnings\n",
    "warnings.filterwarnings(\"ignore\")"
   ]
  },
  {
   "cell_type": "markdown",
   "id": "8db5bf0c",
   "metadata": {},
   "source": [
    "## Setup\n",
    "### Load environment variables and API keys"
   ]
  },
  {
   "cell_type": "code",
   "execution_count": 2,
   "id": "165fde08",
   "metadata": {
    "height": 132
   },
   "outputs": [],
   "source": [
    "import os\n",
    "from dotenv import load_dotenv, find_dotenv\n",
    "_ = load_dotenv(find_dotenv()) # read local .env file\n",
    "\n",
    "MM_EMBEDDING_API_KEY = os.getenv(\"EMBEDDING_API_KEY\")\n",
    "TEXT_EMBEDDING_API_KEY = os.getenv(\"OPENAI_API_KEY\")\n",
    "OPENAI_BASEURL = os.getenv(\"OPENAI_BASE_URL\")"
   ]
  },
  {
   "cell_type": "markdown",
   "id": "1c77481f-c61e-481d-a562-d7a6ccf50a1c",
   "metadata": {},
   "source": [
    "## Connect to Weaviate"
   ]
  },
  {
   "cell_type": "code",
   "execution_count": 3,
   "id": "891a0261-e2e9-4296-9dd5-8cb7436cb938",
   "metadata": {
    "height": 268
   },
   "outputs": [
    {
     "name": "stdout",
     "output_type": "stream",
     "text": [
      "Started /home/jovyan/.cache/weaviate-embedded: process ID 54\n"
     ]
    },
    {
     "name": "stderr",
     "output_type": "stream",
     "text": [
      "{\"action\":\"startup\",\"default_vectorizer_module\":\"none\",\"level\":\"info\",\"msg\":\"the default vectorizer modules is set to \\\"none\\\", as a result all new schema classes without an explicit vectorizer setting, will use this vectorizer\",\"time\":\"2025-08-05T10:21:16Z\"}\n",
      "{\"action\":\"startup\",\"auto_schema_enabled\":true,\"level\":\"info\",\"msg\":\"auto schema enabled setting is set to \\\"true\\\"\",\"time\":\"2025-08-05T10:21:16Z\"}\n",
      "{\"level\":\"info\",\"msg\":\"No resource limits set, weaviate will use all available memory and CPU. To limit resources, set LIMIT_RESOURCES=true\",\"time\":\"2025-08-05T10:21:16Z\"}\n",
      "{\"level\":\"warning\",\"msg\":\"Multiple vector spaces are present, GraphQL Explore and REST API list objects endpoint module include params has been disabled as a result.\",\"time\":\"2025-08-05T10:21:16Z\"}\n",
      "{\"action\":\"grpc_startup\",\"level\":\"info\",\"msg\":\"grpc server listening at [::]:50050\",\"time\":\"2025-08-05T10:21:16Z\"}\n",
      "{\"action\":\"restapi_management\",\"level\":\"info\",\"msg\":\"Serving weaviate at http://127.0.0.1:8079\",\"time\":\"2025-08-05T10:21:16Z\"}\n",
      "/usr/local/lib/python3.11/site-packages/weaviate/warnings.py:130: DeprecationWarning: Dep005: You are using weaviate-client version 4.5.4. The latest version is 4.16.5.\n",
      "            Please consider upgrading to the latest version. See https://weaviate.io/developers/weaviate/client-libraries/python for details.\n",
      "  warnings.warn(\n"
     ]
    },
    {
     "data": {
      "text/plain": [
       "True"
      ]
     },
     "execution_count": 3,
     "metadata": {},
     "output_type": "execute_result"
    }
   ],
   "source": [
    "import weaviate\n",
    "\n",
    "client = weaviate.connect_to_embedded(\n",
    "    version=\"1.24.4\",\n",
    "    environment_variables={\n",
    "        \"ENABLE_MODULES\": \"multi2vec-palm,text2vec-openai\"\n",
    "    },\n",
    "    headers={\n",
    "        \"X-PALM-Api-Key\": MM_EMBEDDING_API_KEY,\n",
    "        \"X-OpenAI-Api-Key\": TEXT_EMBEDDING_API_KEY,\n",
    "        \"X-OpenAI-BaseURL\": OPENAI_BASEURL\n",
    "    }\n",
    ")\n",
    "\n",
    "client.is_ready()"
   ]
  },
  {
   "cell_type": "markdown",
   "id": "1487e4b9-bcc5-4edc-841e-d7fec106849b",
   "metadata": {},
   "source": [
    "## Create Multivector collection"
   ]
  },
  {
   "cell_type": "code",
   "execution_count": 4,
   "id": "df51c1f6",
   "metadata": {
    "height": 608
   },
   "outputs": [
    {
     "name": "stderr",
     "output_type": "stream",
     "text": [
      "{\"action\":\"hnsw_vector_cache_prefill\",\"count\":1000,\"index_id\":\"vectors_txt_vector\",\"level\":\"info\",\"limit\":1000000000000,\"msg\":\"prefilled vector cache\",\"time\":\"2025-08-05T10:21:16Z\",\"took\":53082}\n",
      "{\"level\":\"info\",\"msg\":\"Created shard movies_QZXqp6f6ucHs in 2.86012ms\",\"time\":\"2025-08-05T10:21:16Z\"}\n",
      "{\"action\":\"hnsw_vector_cache_prefill\",\"count\":1000,\"index_id\":\"vectors_poster_vector\",\"level\":\"info\",\"limit\":1000000000000,\"msg\":\"prefilled vector cache\",\"time\":\"2025-08-05T10:21:16Z\",\"took\":56255}\n"
     ]
    },
    {
     "data": {
      "text/plain": [
       "<weaviate.collections.collection.Collection at 0x7f277991f750>"
      ]
     },
     "execution_count": 4,
     "metadata": {},
     "output_type": "execute_result"
    }
   ],
   "source": [
    "from weaviate.classes.config import Configure, DataType, Property\n",
    "\n",
    "# client.collections.delete(\"Movies\")\n",
    "client.collections.create(\n",
    "    name=\"Movies\",\n",
    "    properties=[\n",
    "        Property(name=\"title\", data_type=DataType.TEXT),\n",
    "        Property(name=\"overview\", data_type=DataType.TEXT),\n",
    "        Property(name=\"vote_average\", data_type=DataType.NUMBER),\n",
    "        Property(name=\"release_year\", data_type=DataType.INT),\n",
    "        Property(name=\"tmdb_id\", data_type=DataType.INT),\n",
    "        Property(name=\"poster\", data_type=DataType.BLOB),\n",
    "        Property(name=\"poster_path\", data_type=DataType.TEXT),\n",
    "    ],\n",
    "\n",
    "   # Define & configure the vector spaces\n",
    "    vectorizer_config=[\n",
    "        # Vectorize the movie title and overview – for text-based semantic search\n",
    "        Configure.NamedVectors.text2vec_openai(\n",
    "            name=\"txt_vector\",                       # the name of the txt vector space\n",
    "            source_properties=[\"title\", \"overview\"], # text properties to be used for vectorization\n",
    "        ),\n",
    "        \n",
    "        # Vectorize the movie poster – for image-based semantic search\n",
    "        Configure.NamedVectors.multi2vec_palm(\n",
    "            name=\"poster_vector\",                    # the name of the image vector space\n",
    "            image_fields=[\"poster\"],                 # use poster property multivec vectorization\n",
    "            \n",
    "            project_id=\"semi-random-dev\",\n",
    "            location=\"us-central1\",\n",
    "            model_id=\"multimodalembedding@001\",\n",
    "            dimensions=1408,\n",
    "        ),\n",
    "    ]\n",
    ")"
   ]
  },
  {
   "cell_type": "markdown",
   "id": "d7bde584-15f2-4aee-856f-51d87edf01ef",
   "metadata": {},
   "source": [
    "## Load in data"
   ]
  },
  {
   "cell_type": "markdown",
   "id": "2d8a03bb-057c-4fad-9c10-924670122fd3",
   "metadata": {},
   "source": [
    "<p style=\"background-color:#fff6ff; padding:15px; border-width:3px; border-color:#efe6ef; border-style:solid; border-radius:6px\"> 💻 &nbsp; <b>Access Files and Helper Functions:</b> To access the files for this notebook, 1) click on the <em>\"File\"</em> option on the top menu of the notebook and then 2) click on <em>\"Open\"</em>. For more help, please see the <em>\"Appendix - Tips and Help\"</em> Lesson.</p>\n"
   ]
  },
  {
   "cell_type": "code",
   "execution_count": 5,
   "id": "57248009-4ed4-4eff-8b73-6a679c2723c9",
   "metadata": {
    "height": 64
   },
   "outputs": [
    {
     "name": "stderr",
     "output_type": "stream",
     "text": [
      "{\"action\":\"telemetry_push\",\"level\":\"info\",\"msg\":\"telemetry started\",\"payload\":\"\\u0026{MachineID:94b7962a-9a54-43d8-b776-149e4a249769 Type:INIT Version:1.24.4 Modules:multi2vec-palm,text2vec-openai NumObjects:0 OS:linux Arch:amd64}\",\"time\":\"2025-08-05T10:21:16Z\"}\n"
     ]
    },
    {
     "data": {
      "text/html": [
       "<div>\n",
       "<style scoped>\n",
       "    .dataframe tbody tr th:only-of-type {\n",
       "        vertical-align: middle;\n",
       "    }\n",
       "\n",
       "    .dataframe tbody tr th {\n",
       "        vertical-align: top;\n",
       "    }\n",
       "\n",
       "    .dataframe thead th {\n",
       "        text-align: right;\n",
       "    }\n",
       "</style>\n",
       "<table border=\"1\" class=\"dataframe\">\n",
       "  <thead>\n",
       "    <tr style=\"text-align: right;\">\n",
       "      <th></th>\n",
       "      <th>backdrop_path</th>\n",
       "      <th>genre_ids</th>\n",
       "      <th>id</th>\n",
       "      <th>original_language</th>\n",
       "      <th>original_title</th>\n",
       "      <th>overview</th>\n",
       "      <th>popularity</th>\n",
       "      <th>poster_path</th>\n",
       "      <th>release_date</th>\n",
       "      <th>title</th>\n",
       "      <th>video</th>\n",
       "      <th>vote_average</th>\n",
       "      <th>vote_count</th>\n",
       "    </tr>\n",
       "  </thead>\n",
       "  <tbody>\n",
       "    <tr>\n",
       "      <th>0</th>\n",
       "      <td>/3Nn5BOM1EVw1IYrv6MsbOS6N1Ol.jpg</td>\n",
       "      <td>[14, 18, 10749]</td>\n",
       "      <td>162</td>\n",
       "      <td>en</td>\n",
       "      <td>Edward Scissorhands</td>\n",
       "      <td>A small suburban town receives a visit from a ...</td>\n",
       "      <td>45.694</td>\n",
       "      <td>/1RFIbuW9Z3eN9Oxw2KaQG5DfLmD.jpg</td>\n",
       "      <td>1990-12-07</td>\n",
       "      <td>Edward Scissorhands</td>\n",
       "      <td>False</td>\n",
       "      <td>7.7</td>\n",
       "      <td>12305</td>\n",
       "    </tr>\n",
       "    <tr>\n",
       "      <th>1</th>\n",
       "      <td>/nOTOC2J4DyySEuJIB2ySej0kk9u.jpg</td>\n",
       "      <td>[10751, 35]</td>\n",
       "      <td>11806</td>\n",
       "      <td>en</td>\n",
       "      <td>Beethoven</td>\n",
       "      <td>The Newton family live in their comfortable ho...</td>\n",
       "      <td>25.541</td>\n",
       "      <td>/mVb3r5ZOeopEbCbx6kuIAjUz20F.jpg</td>\n",
       "      <td>1992-04-03</td>\n",
       "      <td>Beethoven</td>\n",
       "      <td>False</td>\n",
       "      <td>5.8</td>\n",
       "      <td>1950</td>\n",
       "    </tr>\n",
       "    <tr>\n",
       "      <th>2</th>\n",
       "      <td>/xWT5F1DNxciNLEMXRl49iq8zvN7.jpg</td>\n",
       "      <td>[14, 16, 10751]</td>\n",
       "      <td>9479</td>\n",
       "      <td>en</td>\n",
       "      <td>The Nightmare Before Christmas</td>\n",
       "      <td>Tired of scaring humans every October 31 with ...</td>\n",
       "      <td>48.968</td>\n",
       "      <td>/oQffRNjK8e19rF7xVYEN8ew0j7b.jpg</td>\n",
       "      <td>1993-10-09</td>\n",
       "      <td>The Nightmare Before Christmas</td>\n",
       "      <td>False</td>\n",
       "      <td>7.8</td>\n",
       "      <td>8920</td>\n",
       "    </tr>\n",
       "    <tr>\n",
       "      <th>3</th>\n",
       "      <td>/c4Fl1cWiXcq4uJdOQudQClFjhho.jpg</td>\n",
       "      <td>[14, 35, 10751]</td>\n",
       "      <td>10439</td>\n",
       "      <td>en</td>\n",
       "      <td>Hocus Pocus</td>\n",
       "      <td>After 300 years of slumber, three sister witch...</td>\n",
       "      <td>32.808</td>\n",
       "      <td>/by4D4Q9NlUjFSEUA1yrxq6ksXmk.jpg</td>\n",
       "      <td>1993-07-16</td>\n",
       "      <td>Hocus Pocus</td>\n",
       "      <td>False</td>\n",
       "      <td>7.0</td>\n",
       "      <td>2819</td>\n",
       "    </tr>\n",
       "    <tr>\n",
       "      <th>4</th>\n",
       "      <td>/4PPC7fKClu0u7NTbo5xgV4vb5VD.jpg</td>\n",
       "      <td>[80, 27, 9648]</td>\n",
       "      <td>4232</td>\n",
       "      <td>en</td>\n",
       "      <td>Scream</td>\n",
       "      <td>A year after the murder of her mother, Sidney ...</td>\n",
       "      <td>42.734</td>\n",
       "      <td>/aXAByjBN8UhaYvotqRCwa5MsMGu.jpg</td>\n",
       "      <td>1996-12-20</td>\n",
       "      <td>Scream</td>\n",
       "      <td>False</td>\n",
       "      <td>7.4</td>\n",
       "      <td>6458</td>\n",
       "    </tr>\n",
       "  </tbody>\n",
       "</table>\n",
       "</div>"
      ],
      "text/plain": [
       "                      backdrop_path        genre_ids     id original_language  \\\n",
       "0  /3Nn5BOM1EVw1IYrv6MsbOS6N1Ol.jpg  [14, 18, 10749]    162                en   \n",
       "1  /nOTOC2J4DyySEuJIB2ySej0kk9u.jpg      [10751, 35]  11806                en   \n",
       "2  /xWT5F1DNxciNLEMXRl49iq8zvN7.jpg  [14, 16, 10751]   9479                en   \n",
       "3  /c4Fl1cWiXcq4uJdOQudQClFjhho.jpg  [14, 35, 10751]  10439                en   \n",
       "4  /4PPC7fKClu0u7NTbo5xgV4vb5VD.jpg   [80, 27, 9648]   4232                en   \n",
       "\n",
       "                   original_title  \\\n",
       "0             Edward Scissorhands   \n",
       "1                       Beethoven   \n",
       "2  The Nightmare Before Christmas   \n",
       "3                     Hocus Pocus   \n",
       "4                          Scream   \n",
       "\n",
       "                                            overview  popularity  \\\n",
       "0  A small suburban town receives a visit from a ...      45.694   \n",
       "1  The Newton family live in their comfortable ho...      25.541   \n",
       "2  Tired of scaring humans every October 31 with ...      48.968   \n",
       "3  After 300 years of slumber, three sister witch...      32.808   \n",
       "4  A year after the murder of her mother, Sidney ...      42.734   \n",
       "\n",
       "                        poster_path release_date  \\\n",
       "0  /1RFIbuW9Z3eN9Oxw2KaQG5DfLmD.jpg   1990-12-07   \n",
       "1  /mVb3r5ZOeopEbCbx6kuIAjUz20F.jpg   1992-04-03   \n",
       "2  /oQffRNjK8e19rF7xVYEN8ew0j7b.jpg   1993-10-09   \n",
       "3  /by4D4Q9NlUjFSEUA1yrxq6ksXmk.jpg   1993-07-16   \n",
       "4  /aXAByjBN8UhaYvotqRCwa5MsMGu.jpg   1996-12-20   \n",
       "\n",
       "                            title  video  vote_average  vote_count  \n",
       "0             Edward Scissorhands  False           7.7       12305  \n",
       "1                       Beethoven  False           5.8        1950  \n",
       "2  The Nightmare Before Christmas  False           7.8        8920  \n",
       "3                     Hocus Pocus  False           7.0        2819  \n",
       "4                          Scream  False           7.4        6458  "
      ]
     },
     "execution_count": 5,
     "metadata": {},
     "output_type": "execute_result"
    }
   ],
   "source": [
    "import pandas as pd\n",
    "df = pd.read_json(\"movies_data.json\")\n",
    "df.head()"
   ]
  },
  {
   "cell_type": "markdown",
   "id": "cc2f0366",
   "metadata": {},
   "source": [
    "## Helper function"
   ]
  },
  {
   "cell_type": "code",
   "execution_count": 6,
   "id": "627e8b36",
   "metadata": {
    "height": 115
   },
   "outputs": [],
   "source": [
    "import base64\n",
    "\n",
    "# Helper function to convert a file to base64 representation\n",
    "def toBase64(path):\n",
    "    with open(path, 'rb') as file:\n",
    "        return base64.b64encode(file.read()).decode('utf-8')"
   ]
  },
  {
   "cell_type": "markdown",
   "id": "b927fb51",
   "metadata": {},
   "source": [
    "## Import text and image data"
   ]
  },
  {
   "cell_type": "code",
   "execution_count": null,
   "id": "4bf03b05",
   "metadata": {
    "height": 608
   },
   "outputs": [
    {
     "name": "stdout",
     "output_type": "stream",
     "text": [
      "0: Adding \"Edward Scissorhands\"\n",
      "1: Adding \"Beethoven\"\n",
      "2: Adding \"The Nightmare Before Christmas\"\n",
      "3: Adding \"Hocus Pocus\"\n",
      "4: Adding \"Scream\"\n",
      "5: Adding \"101 Dalmatians\"\n",
      "6: Adding \"A Bug's Life\"\n",
      "7: Adding \"Stuart Little\"\n",
      "8: Adding \"Chicken Run\"\n",
      "9: Adding \"Ice Age\"\n",
      "10: Adding \"Lilo & Stitch\"\n",
      "11: Adding \"Iron Man\"\n",
      "12: Adding \"The Incredible Hulk\"\n",
      "13: Adding \"Man of Steel\"\n",
      "14: Adding \"Captain America: Civil War\"\n",
      "15: Adding \"Batman v Superman: Dawn of Justice\"\n",
      "16: Adding \"A Quiet Place\"\n",
      "17: Adding \"Incredibles 2\"\n",
      "18: Adding \"Shazam!\"\n",
      "19: Adding \"Evil Dead Rise\"\n"
     ]
    }
   ],
   "source": [
    "from weaviate.util import generate_uuid5\n",
    "\n",
    "movies = client.collections.get(\"Movies\")\n",
    "\n",
    "with movies.batch.rate_limit(20) as batch:\n",
    "    # for index, movie in df.sample(20).iterrows():\n",
    "    for index, movie in df.iterrows():\n",
    "\n",
    "        # In case you run it again - Don't import movies that are already in.\n",
    "        if(movies.data.exists(generate_uuid5(movie.id))):\n",
    "            print(f'{index}: Skipping insert. The movie \"{movie.title}\" is already in the database.')\n",
    "            continue\n",
    "\n",
    "        print(f'{index}: Adding \"{movie.title}\"')\n",
    "\n",
    "        # construct the path to the poster image file\n",
    "        poster_path = f\"./posters/{movie.id}_poster.jpg\"\n",
    "        # generate base64 representation of the poster\n",
    "        posterb64 = toBase64(poster_path)\n",
    "\n",
    "        # Build the object payload\n",
    "        movie_obj = {\n",
    "            \"title\": movie.title,\n",
    "            \"overview\": movie.overview,\n",
    "            \"vote_average\": movie.vote_average,\n",
    "            \"tmdb_id\": movie.id,\n",
    "            \"poster_path\": poster_path,\n",
    "            \"poster\": posterb64\n",
    "        }\n",
    "\n",
    "        # Add object to batch queue\n",
    "        batch.add_object(\n",
    "            properties=movie_obj,\n",
    "            uuid=generate_uuid5(movie.id),\n",
    "        )"
   ]
  },
  {
   "cell_type": "code",
   "execution_count": null,
   "id": "55e8c13e",
   "metadata": {
    "height": 132
   },
   "outputs": [],
   "source": [
    "# Check for failed objects\n",
    "if len(movies.batch.failed_objects) > 0:\n",
    "    print(f\"Failed to import {len(movies.batch.failed_objects)} objects\")\n",
    "    for failed in movies.batch.failed_objects:\n",
    "        print(f\"e.g. Failed to import object with error: {failed.message}\")\n",
    "else:\n",
    "    print(\"Import complete with no errors\")"
   ]
  },
  {
   "cell_type": "markdown",
   "id": "9e439604",
   "metadata": {},
   "source": [
    "## Text-search through the text vector space"
   ]
  },
  {
   "cell_type": "code",
   "execution_count": null,
   "id": "bc831304",
   "metadata": {
    "height": 234
   },
   "outputs": [],
   "source": [
    "from IPython.display import Image\n",
    "\n",
    "response = movies.query.near_text(\n",
    "    query=\"Movie about lovable cute pets\",\n",
    "    target_vector=\"txt_vector\",  # Search in the txt_vector space\n",
    "    limit=3,\n",
    ")\n",
    "\n",
    "# Inspect the response\n",
    "for item in response.objects:\n",
    "    print(item.properties[\"title\"])\n",
    "    print(item.properties[\"overview\"])\n",
    "    display(Image(item.properties[\"poster_path\"], width=200))"
   ]
  },
  {
   "cell_type": "code",
   "execution_count": null,
   "id": "ac684e61",
   "metadata": {
    "height": 217
   },
   "outputs": [],
   "source": [
    "# Perform query\n",
    "response = movies.query.near_text(\n",
    "    query=\"Epic super hero\",\n",
    "    target_vector=\"txt_vector\",  # Search in the txt_vector space\n",
    "    limit=3,\n",
    ")\n",
    "\n",
    "# Inspect the response\n",
    "for item in response.objects:\n",
    "    print(item.properties[\"title\"])\n",
    "    print(item.properties[\"overview\"])\n",
    "    display(Image(item.properties[\"poster_path\"], width=200))"
   ]
  },
  {
   "cell_type": "markdown",
   "id": "87408061",
   "metadata": {},
   "source": [
    "## Text-search through the posters vector space"
   ]
  },
  {
   "cell_type": "code",
   "execution_count": null,
   "id": "dd193cb2",
   "metadata": {
    "height": 217
   },
   "outputs": [],
   "source": [
    "# Perform query\n",
    "response = movies.query.near_text(\n",
    "    query=\"Movie about lovable cute pets\",\n",
    "    target_vector=\"poster_vector\",  # Search in the poster_vector space\n",
    "    limit=3,\n",
    ")\n",
    "\n",
    "# Inspect the response\n",
    "for item in response.objects:\n",
    "    print(item.properties[\"title\"])\n",
    "    print(item.properties[\"overview\"])\n",
    "    display(Image(item.properties[\"poster_path\"], width=200))"
   ]
  },
  {
   "cell_type": "code",
   "execution_count": null,
   "id": "33403bbc",
   "metadata": {
    "height": 217
   },
   "outputs": [],
   "source": [
    "# Perform query\n",
    "response = movies.query.near_text(\n",
    "    query=\"Epic super hero\",\n",
    "    target_vector=\"poster_vector\",  # Search in the poster_vector space\n",
    "    limit=3,\n",
    ")\n",
    "\n",
    "# Inspect the response\n",
    "for item in response.objects:\n",
    "    print(item.properties[\"title\"])\n",
    "    print(item.properties[\"overview\"])\n",
    "    display(Image(item.properties[\"poster_path\"], width=200))"
   ]
  },
  {
   "cell_type": "markdown",
   "id": "4707d580",
   "metadata": {},
   "source": [
    "## Image-search through the posters vector space"
   ]
  },
  {
   "cell_type": "code",
   "execution_count": null,
   "id": "2937f209",
   "metadata": {
    "height": 30
   },
   "outputs": [],
   "source": [
    "Image(\"test/spooky.jpg\", width=300)"
   ]
  },
  {
   "cell_type": "code",
   "execution_count": null,
   "id": "5f7676fa",
   "metadata": {
    "height": 200
   },
   "outputs": [],
   "source": [
    "# Perform query\n",
    "response = movies.query.near_image(\n",
    "    near_image=toBase64(\"test/spooky.jpg\"),\n",
    "    target_vector=\"poster_vector\",  # Search in the poster_vector space\n",
    "    limit=3,\n",
    ")\n",
    "\n",
    "# Inspect the response\n",
    "for item in response.objects:\n",
    "    print(item.properties[\"title\"])\n",
    "    display(Image(item.properties[\"poster_path\"], width=200))"
   ]
  },
  {
   "cell_type": "markdown",
   "id": "c602e02b",
   "metadata": {},
   "source": [
    "#### One more example!"
   ]
  },
  {
   "cell_type": "code",
   "execution_count": null,
   "id": "f0291f3d",
   "metadata": {
    "height": 30
   },
   "outputs": [],
   "source": [
    "Image(\"test/superheroes.png\", width=300)"
   ]
  },
  {
   "cell_type": "code",
   "execution_count": null,
   "id": "adb2a31e",
   "metadata": {
    "height": 200
   },
   "outputs": [],
   "source": [
    "# Perform query\n",
    "response = movies.query.near_image(\n",
    "    near_image=toBase64(\"test/superheroes.png\"),\n",
    "    target_vector=\"poster_vector\",  # Search in the poster_vector space\n",
    "    limit=3,\n",
    ")\n",
    "\n",
    "# Inspect the response\n",
    "for item in response.objects:\n",
    "    print(item.properties[\"title\"])\n",
    "    display(Image(item.properties[\"poster_path\"], width=200))"
   ]
  },
  {
   "cell_type": "code",
   "execution_count": null,
   "id": "6e5e39f5",
   "metadata": {
    "height": 30
   },
   "outputs": [],
   "source": [
    "client.close()"
   ]
  }
 ],
 "metadata": {
  "kernelspec": {
   "display_name": "Python 3 (ipykernel)",
   "language": "python",
   "name": "python3"
  },
  "language_info": {
   "codemirror_mode": {
    "name": "ipython",
    "version": 3
   },
   "file_extension": ".py",
   "mimetype": "text/x-python",
   "name": "python",
   "nbconvert_exporter": "python",
   "pygments_lexer": "ipython3",
   "version": "3.11.9"
  }
 },
 "nbformat": 4,
 "nbformat_minor": 5
}
